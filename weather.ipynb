{
 "cells": [
  {
   "cell_type": "code",
   "execution_count": null,
   "metadata": {},
   "outputs": [
    {
     "name": "stdout",
     "output_type": "stream",
     "text": [
      "execution completed ...............\n"
     ]
    }
   ],
   "source": [
    "import tkinter as tk\n",
    "import bs4\n",
    "import requests\n",
    "from PIL import Image, ImageTk\n",
    "import urllib.request\n",
    "#import cv2\n",
    "\n",
    "#Globals\n",
    "\n",
    "Temperature = \"\"\n",
    "cityName = \"\"\n",
    "#Screen\n",
    "\n",
    "root = tk.Tk()\n",
    "root.minsize(600, 300)\n",
    "root.config(bg='#fcfcfc')\n",
    "root.title(\"Current weather\")\n",
    "\n",
    "#Label Box\n",
    "\n",
    "head = tk.Label(root, font=('Cursive', 25, 'bold'))\n",
    "head.config(bg='#327ba8', fg='#fffeee', text='Enter the name of city', width=20, relief=tk.RAISED)\n",
    "head.pack(side=tk.TOP, pady=50)\n",
    "\n",
    "#Entry Box\n",
    "\n",
    "city = tk.Entry(root, font=('Cursive', 25, 'bold'))\n",
    "city.config(bg=\"#327ba8\", fg=\"#fffeee\", text=\"\", width=10, relief=tk.RAISED)\n",
    "city.pack(side=tk.TOP)\n",
    "\n",
    "#ResultBox\n",
    "\n",
    "result = tk.Label(root, font=('Cursive', 25, 'bold'))\n",
    "result.config(bg='#327ba8', fg='#fffeee', text=\"Temperature\", width=10, relief=tk.RAISED)\n",
    "result.pack(side=tk.TOP, pady=50)\n",
    "\n",
    "#Canvas for icon\n",
    "\n",
    "canvas = tk.Canvas(root)\n",
    "canvas.config(bg=\"#bfbdbd\", width=200, height=50, bd=0, relief=tk.RIDGE, highlightthickness=0)\n",
    "\n",
    "#Exit\n",
    "\n",
    "#exit_button = tk.Button(root, font=('Cursive', 25, 'bold'))\n",
    "#exit_button.config(bg='#ff0000', fg='#000000', text=\"EXIT\", width=20, height=1, command=root.quit)\n",
    "#exit_button.pack(side=tk.BOTTOM)\n",
    "\n",
    "\n",
    "\n",
    "\n",
    "\n",
    "\n",
    "#Weather API Call\n",
    "def show_weather(e):\n",
    "    global Temperature, cityName\n",
    "    degree_sign = u'\\N{DEGREE SIGN}'\n",
    "    key = \"2cfa343a0ad8b9990f54b9bf6c981df5\"\n",
    "    cityName = city.get()\n",
    "    url = f\"http://api.openweathermap.org/data/2.5/weather?q={cityName}&appid={key}&units=metric\"\n",
    "    page = requests.get(url)\n",
    "    data = dict(page.json())\n",
    "    Temperature = data['main']['temp']\n",
    "    result.config(text=str(Temperature) + f\" {degree_sign} C\")\n",
    "    icon = data['weather'][0]['icon']\n",
    "    icon_url = f'http://openweathermap.org/img/wn/{icon}.png'\n",
    "    img = Image.open(urllib.request.urlopen(icon_url))\n",
    "    img = img.resize((80, 80), Image.ANTIALIAS)\n",
    "    image = ImageTk.PhotoImage(img)\n",
    "    canvas.create_image(100, 25, anchor=tk.CENTER, image=image)\n",
    "    canvas.image = image\n",
    "    canvas.pack(side=tk.TOP, pady=10)\n",
    "    print(\"execution completed ...............\")\n",
    "\n",
    "city.bind('<Return>', show_weather)\n",
    "\n",
    "root.mainloop()"
   ]
  },
  {
   "cell_type": "code",
   "execution_count": null,
   "metadata": {},
   "outputs": [],
   "source": []
  }
 ],
 "metadata": {
  "kernelspec": {
   "display_name": "Python 3",
   "language": "python",
   "name": "python3"
  },
  "language_info": {
   "codemirror_mode": {
    "name": "ipython",
    "version": 3
   },
   "file_extension": ".py",
   "mimetype": "text/x-python",
   "name": "python",
   "nbconvert_exporter": "python",
   "pygments_lexer": "ipython3",
   "version": "3.8.5"
  }
 },
 "nbformat": 4,
 "nbformat_minor": 4
}
